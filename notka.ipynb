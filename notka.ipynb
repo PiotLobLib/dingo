{
 "cells": [
  {
   "cell_type": "raw",
   "metadata": {
    "vscode": {
     "languageId": "raw"
    }
   },
   "source": [
    "conda activate Django5\n",
    "-----------------------------------------\n",
    "django-admin startproject dingo\n",
    "-----------------------------------------\n",
    "python manage.py runserver\n",
    "python manage.py runserver 0:8080\n",
    "-----------------------------------------\n",
    "python manage.py startapp maths\n",
    "python manage.py startapp greetings\n",
    "python manage.py startapp sessions\n",
    "python manage.py startapp posts\n",
    "-----------------------------------------\n",
    "python manage.py shell\n",
    "\n",
    "In [1]: from django.template import Template, Context\n",
    "In [2]: t = Template(\"To jest wynik: {{wynik}}\")\n",
    "In [3]: c = Context({\"wynik\": 6})\n",
    "In [4]: t.render(c)\n",
    "Out[4]: 'To jest wynik: 6'\n",
    "-----------------------------------------\n",
    "python manage.py migrate\n",
    "-----------------------------------------\n",
    "python manage.py collectstatic\n",
    "-----------------------------------------\n",
    "python manage.py showmigrations\n",
    "-----------------------------------------\n",
    "python manage.py makemigrations\n",
    "-----------------------------------------\n",
    "python manage.py migrate\n",
    "-----------------------------------------\n",
    "python manage.py sqlmigrate maths 0002\n",
    "-----------------------------------------\n",
    "python manage.py test\n",
    "python manage.py test maths\n",
    "python manage.py test maths.tests.ResultModelTest\n",
    "python manage.py test maths.tests.ResultFormTest\n",
    "-----------------------------------------\n",
    "python manage.py help dumpdata\n",
    "\n",
    "python manage.py dumpdata\n",
    "python manage.py dumpdata maths\n",
    "python manage.py dumpdata maths.math\n",
    "\n",
    "python manage.py dumpdata --indent 4  maths.math\n",
    "\n",
    "python manage.py dumpdata --indent 4  maths.math > maths/fixtures/math.json\n",
    "python manage.py loaddata maths/fixtures/math.json\n",
    "-----------------------------------------\n",
    "\n",
    "-----------------------------------------\n",
    "\n",
    "-----------------------------------------\n",
    "\n",
    "-----------------------------------------\n",
    "\n",
    "-----------------------------------------\n",
    "\n",
    "-----------------------------------------\n",
    "\n"
   ]
  },
  {
   "cell_type": "code",
   "execution_count": null,
   "metadata": {},
   "outputs": [],
   "source": [
    "from django.template import Template, Context"
   ]
  },
  {
   "cell_type": "code",
   "execution_count": null,
   "metadata": {},
   "outputs": [],
   "source": [
    "t = Template(\"To jest wynik: {{wynik}}\")"
   ]
  },
  {
   "cell_type": "code",
   "execution_count": null,
   "metadata": {},
   "outputs": [],
   "source": []
  }
 ],
 "metadata": {
  "kernelspec": {
   "display_name": "Django5",
   "language": "python",
   "name": "python3"
  },
  "language_info": {
   "codemirror_mode": {
    "name": "ipython",
    "version": 3
   },
   "file_extension": ".py",
   "mimetype": "text/x-python",
   "name": "python",
   "nbconvert_exporter": "python",
   "pygments_lexer": "ipython3",
   "version": "3.13.0"
  }
 },
 "nbformat": 4,
 "nbformat_minor": 2
}
